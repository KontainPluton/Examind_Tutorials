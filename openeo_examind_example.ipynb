{
 "cells": [
  {
   "cell_type": "markdown",
   "metadata": {},
   "source": [
    "# OpenEO endpoint in Examind - Example\n",
    "\n",
    "By Quentin BIALOTA (Geomatys)\n",
    "\n",
    "Contact : quentin.bialota@geomatys.com"
   ]
  },
  {
   "metadata": {},
   "cell_type": "markdown",
   "source": [
    "---\n",
    "\n",
    "### **/!\\ WARNING**\n",
    "This initial implementation of openEO is not yet complete and may contain bugs. Please let me know if you find any. \n",
    "\n",
    "For the moment we are not compatible with openEO clients. In this tutorial we will use http requests to communicate with the examind openEO implementation.\n",
    "\n",
    "---"
   ]
  },
  {
   "metadata": {},
   "cell_type": "markdown",
   "source": [
    "**Prerequisites :**\n",
    "- Have an examind (via docker) running on your machine\n",
    "- Have imported sentinel-2 data in Examind (through the web ui http://localhost/8080/examind [login: admin / password: admin])"
   ]
  },
  {
   "cell_type": "code",
   "metadata": {
    "ExecuteTime": {
     "end_time": "2024-09-18T07:26:15.867196Z",
     "start_time": "2024-09-18T07:26:15.862759Z"
    }
   },
   "source": [
    "# Imports (Execute this cell once)\n",
    "import requests\n",
    "import json\n",
    "\n",
    "# Set the server ip here (before the /examind), by default: localhost:8080\n",
    "SERVER_IP = \"http://localhost:8080\""
   ],
   "outputs": [],
   "execution_count": 67
  },
  {
   "metadata": {},
   "cell_type": "markdown",
   "source": [
    "### 1 - List openEO available processes\n",
    "\n",
    "The first step we can do is to request the list of processes available via examind's openEO endpoint."
   ]
  },
  {
   "metadata": {},
   "cell_type": "code",
   "source": [
    "URL = SERVER_IP + \"/examind/WS/openeo/process/WPS/processes\"\n",
    "\n",
    "r = requests.get(url = URL)\n",
    "\n",
    "data = r.json()\n",
    "\n",
    "# If you want to show the raw json output\n",
    "# print(json.dumps(data, indent=2))\n",
    "\n",
    "# Iterate over each process in the data\n",
    "for process in data['processes']:\n",
    "    print(f\"ID: {process['id']}\")\n",
    "\n",
    "    print(f\"Description: {process['description']}\")\n",
    "\n",
    "    print(\"Parameters:\")\n",
    "    for parameter in process['parameters']:\n",
    "        print(f\"- {parameter['name']} {parameter['schema']['type']}\")\n",
    "        print(f\"  Description: {parameter['description']}\")\n",
    "        if 'subtype' in parameter['schema'] and parameter['schema']['subtype'] is not None:\n",
    "            print(f\"  Subtype: {parameter['schema']['subtype']}\")\n",
    "\n",
    "    print(\"Returns:\")\n",
    "    if process['returns']['schema'] is not None:\n",
    "        print(f\"  Description: {process['returns']['description']}\")\n",
    "        print(f\"  Type: {process['returns']['schema']['type']}\")\n",
    "        if 'subtype' in process['returns']['schema'] and process['returns']['schema']['subtype'] is not None:\n",
    "            print(f\"  Subtype: {process['returns']['schema']['subtype']}\")\n",
    "\n",
    "    print(\"\\n\")"
   ],
   "outputs": [],
   "execution_count": null
  },
  {
   "metadata": {},
   "cell_type": "markdown",
   "source": [
    "You can also get a list of processes that have been added by a user.\n",
    "\n",
    "*(If you follow this tutorial in order, you shouldn't find anything for the moment.\n",
    "If you come back to this request later, you'll see the process we're going to create next.)*"
   ]
  },
  {
   "metadata": {},
   "cell_type": "code",
   "source": [
    "URL = SERVER_IP + \"/examind/WS/openeo/process/WPS/process_graphs\"\n",
    "\n",
    "r = requests.get(url = URL)\n",
    "\n",
    "data = r.json()\n",
    "\n",
    "# If you want to show the raw json output\n",
    "# print(json.dumps(data, indent=2))\n",
    "\n",
    "# Iterate over each process in the data\n",
    "for process in data['processes']:\n",
    "    print(f\"ID: {process['id']}\")\n",
    "\n",
    "    print(f\"Description: {process['description']}\")\n",
    "\n",
    "    print(\"Parameters:\")\n",
    "    for parameter in process['parameters']:\n",
    "        print(f\"- {parameter['name']} {parameter['schema']['type']}\")\n",
    "        print(f\"  Description: {parameter['description']}\")\n",
    "        if 'subtype' in parameter['schema'] and parameter['schema']['subtype'] is not None:\n",
    "            print(f\"  Subtype: {parameter['schema']['subtype']}\")\n",
    "\n",
    "    print(\"Returns:\")\n",
    "    if process['returns']['schema'] is not None:\n",
    "        print(f\"  Description: {process['returns']['description']}\")\n",
    "        print(f\"  Type: {process['returns']['schema']['type']}\")\n",
    "        if 'subtype' in process['returns']['schema'] and process['returns']['schema']['subtype'] is not None:\n",
    "            print(f\"  Subtype: {process['returns']['schema']['subtype']}\")\n",
    "\n",
    "    print(\"\\n\")"
   ],
   "outputs": [],
   "execution_count": null
  },
  {
   "metadata": {},
   "cell_type": "markdown",
   "source": [
    "### 2 - Create your own process\n",
    "\n",
    "This step should eventually work via openEO web Editor (https://github.com/Open-EO/openeo-web-editor), but for the moment our implementation is not compatible (nor is it compatible with openEO clients) because some of the paths to the APIs are not standard (the way the API works, however, is compliant).\n",
    "\n",
    "For the moment, we're going to create an EVI (Enhanced Vegetation Index) process by ourselves, directly via an http request !"
   ]
  },
  {
   "metadata": {
    "ExecuteTime": {
     "end_time": "2024-09-18T06:44:50.752828Z",
     "start_time": "2024-09-18T06:44:50.740125Z"
    }
   },
   "cell_type": "code",
   "source": [
    "# Set Json of my EVI-Sentinel process\n",
    "\n",
    "data = {\n",
    "    'id': 'evi-sentinel',\n",
    "    'summary': 'Enhanced Vegetation Index',\n",
    "    'description': 'Computes the Enhanced Vegetation Index (EVI). It is computed with the following formula: `2.5 * (NIR - RED) / (1 + NIR + 6*RED + 7.5*BLUE)`.',\n",
    "    'parameters': [\n",
    "        {\n",
    "            'name': 'dataId',\n",
    "            'description': 'Sentinel-2 data id',\n",
    "            'schema': {\n",
    "                'type': 'String'\n",
    "            }\n",
    "        },\n",
    "        {\n",
    "            'name': 'bbox',\n",
    "            'description': 'Spatial extent',\n",
    "            'schema': {\n",
    "                'type': 'Object'\n",
    "            }\n",
    "        },\n",
    "        {\n",
    "            'name': 'temporal',\n",
    "            'description': 'Temporal extent',\n",
    "            'schema': {\n",
    "                'type': 'Array',\n",
    "                'subtype': 'String'\n",
    "            }\n",
    "        },\n",
    "        {\n",
    "            'name': 'bands',\n",
    "            'description': 'Bands to load',\n",
    "            'schema': {\n",
    "                'type': 'Array',\n",
    "                'subtype': 'String'\n",
    "            }\n",
    "        }\n",
    "    ],\n",
    "    'returns': {\n",
    "        'description': 'Computed EVI.',\n",
    "        'schema': {\n",
    "            'type': 'object'\n",
    "        }\n",
    "    },\n",
    "    'process_graph': {\n",
    "        'load': {\n",
    "            'process_id': 'examind.coverage.load',\n",
    "            'arguments': {\n",
    "                'coverageId': {\n",
    "                    'from_parameter': 'dataId'\n",
    "                },\n",
    "                'spatial_extent': {\n",
    "                    'from_parameter': 'bbox'\n",
    "                },\n",
    "                'temporal_extent': {\n",
    "                    'from_parameter': 'temporal'\n",
    "                },\n",
    "                'bands': {\n",
    "                    'from_parameter': 'bands'\n",
    "                }\n",
    "            }\n",
    "        },\n",
    "        'bs3': {\n",
    "            'process_id': 'geotoolkit.coverage:bandselect',\n",
    "            'arguments': {\n",
    "                'coverage': {\n",
    "                    'from_node': 'load'\n",
    "                },\n",
    "                'bands': [\n",
    "                    1\n",
    "                ]\n",
    "            }\n",
    "        },\n",
    "        'bs4': {\n",
    "            'process_id': 'geotoolkit.coverage:bandselect',\n",
    "            'arguments': {\n",
    "                'coverage': {\n",
    "                    'from_node': 'load'\n",
    "                },\n",
    "                'bands': [\n",
    "                    2\n",
    "                ]\n",
    "            }\n",
    "        },\n",
    "        'bs8': {\n",
    "            'process_id': 'geotoolkit.coverage:bandselect',\n",
    "            'arguments': {\n",
    "                'coverage': {\n",
    "                    'from_node': 'load'\n",
    "                },\n",
    "                'bands': [\n",
    "                    3\n",
    "                ]\n",
    "            }\n",
    "        },\n",
    "        'sub': {\n",
    "            'process_id': 'examind.coverage:math:substract',\n",
    "            'arguments': {\n",
    "                'first': {\n",
    "                    'from_node': 'bs8'\n",
    "                },\n",
    "                'second': {\n",
    "                    'from_node': 'bs3'\n",
    "                }\n",
    "            }\n",
    "        },\n",
    "        'p1': {\n",
    "            'process_id': 'examind.coverage:math:multiplyWithValue',\n",
    "            'arguments': {\n",
    "                'value': 6.0,\n",
    "                'coverage': {\n",
    "                    'from_node': 'bs3'\n",
    "                }\n",
    "            }\n",
    "        },\n",
    "        'p2': {\n",
    "            'process_id': 'examind.coverage:math:multiplyWithValue',\n",
    "            'arguments': {\n",
    "                'value': 7.5,\n",
    "                'coverage': {\n",
    "                    'from_node': 'bs4'\n",
    "                }\n",
    "            }\n",
    "        },\n",
    "        'sumCoverages1': {\n",
    "            'process_id': 'examind.coverage:math:sum',\n",
    "            'arguments': {\n",
    "                'first': {\n",
    "                    'from_node': 'bs8'\n",
    "                },\n",
    "                'second': {\n",
    "                    'from_node': 'p1'\n",
    "                }\n",
    "            }\n",
    "        },\n",
    "        'sumCoverages2': {\n",
    "            'process_id': 'examind.coverage:math:sum',\n",
    "            'arguments': {\n",
    "                'first': {\n",
    "                    'from_node': 'sumCoverages1'\n",
    "                },\n",
    "                'second': {\n",
    "                    'from_node': 'p2'\n",
    "                }\n",
    "            }\n",
    "        },\n",
    "        'sum': {\n",
    "            'process_id': 'examind.coverage:math:sumWithValue',\n",
    "            'arguments': {\n",
    "                'coverage': {\n",
    "                    'from_node': 'sumCoverages2'\n",
    "                },\n",
    "                'value': 1.0\n",
    "            }\n",
    "        },\n",
    "        'div': {\n",
    "            'process_id': 'examind.coverage:math:divide',\n",
    "            'arguments': {\n",
    "                'first': {\n",
    "                    'from_node': 'sub'\n",
    "                },\n",
    "                'second': {\n",
    "                    'from_node': 'sum'\n",
    "                }\n",
    "            }\n",
    "        },\n",
    "        'p3': {\n",
    "            'process_id': 'examind.coverage:math:multiplyWithValue',\n",
    "            'arguments': {\n",
    "                'value': 2.5,\n",
    "                'coverage': {\n",
    "                    'from_node': 'div'\n",
    "                }\n",
    "            }\n",
    "        },\n",
    "        'save': {\n",
    "            'process_id': 'examind.coverage.save_result',\n",
    "            'arguments': {\n",
    "                'format': 'GTIFF',\n",
    "                'coverage': {\n",
    "                    'from_node': 'p3'\n",
    "                }\n",
    "            },\n",
    "            'result': True\n",
    "        }\n",
    "    }\n",
    "}"
   ],
   "outputs": [],
   "execution_count": 38
  },
  {
   "metadata": {},
   "cell_type": "markdown",
   "source": "You can check if your process is valid with `/validation` endpoint"
  },
  {
   "metadata": {
    "ExecuteTime": {
     "end_time": "2024-09-18T06:44:52.605622Z",
     "start_time": "2024-09-18T06:44:52.445644Z"
    }
   },
   "cell_type": "code",
   "source": [
    "URL = SERVER_IP + \"/examind/WS/openeo/process/WPS/validation\"\n",
    "\n",
    "headers = {'Content-Type': 'application/json', 'Accept': '*/*'}\n",
    "\n",
    "r = requests.post(url=URL, data=json.dumps(data), headers=headers)\n",
    "\n",
    "print(f\"Status {r.status_code}\")\n",
    "print(json.dumps(r.json(), indent=2))"
   ],
   "outputs": [
    {
     "name": "stdout",
     "output_type": "stream",
     "text": [
      "Status 200\n",
      "{\n",
      "  \"errors\": [\n",
      "    {\n",
      "      \"id\": \"360697e8-27a0-453d-951d-5b437cba3af3\",\n",
      "      \"code\": \"ProcessIDAlreadyExist\",\n",
      "      \"message\": \"The process id specified already exist, you cannot use the same to add this process.\",\n",
      "      \"links\": []\n",
      "    }\n",
      "  ]\n",
      "}\n"
     ]
    }
   ],
   "execution_count": 39
  },
  {
   "metadata": {},
   "cell_type": "markdown",
   "source": "Then, if it's valid, you can put your process on the server with `/process_graphs/{id_process}` endpoint"
  },
  {
   "metadata": {
    "ExecuteTime": {
     "end_time": "2024-09-18T07:19:29.341457Z",
     "start_time": "2024-09-18T07:19:29.115648Z"
    }
   },
   "cell_type": "code",
   "source": [
    "URL = SERVER_IP + \"/examind/WS/openeo/process/WPS/process_graphs/evi-sentinel\"\n",
    "\n",
    "headers = {'Content-Type': 'application/json', 'Accept': '*/*'}\n",
    "\n",
    "r = requests.put(url=URL, data=json.dumps(data), headers=headers)\n",
    "\n",
    "print(f\"Status {r.status_code}\")\n",
    "if r.text and r.text is not None:\n",
    "    print(json.dumps(r.json(), indent=2))"
   ],
   "outputs": [
    {
     "name": "stdout",
     "output_type": "stream",
     "text": [
      "Status 200\n"
     ]
    }
   ],
   "execution_count": 65
  },
  {
   "metadata": {},
   "cell_type": "markdown",
   "source": [
    "**NOTE 1**\n",
    "\n",
    "The process id you created is not exactly the same as the one specified. The server adds the prefix `openeo-` before your process id for internal management reasons. \n",
    "So, for example, `evi-sentinel` becomes `openeo-evi-sentinel`.\n",
    "\n",
    "---\n",
    "\n",
    "**NOTE 2**\n",
    "\n",
    "If the process id already exist because you have already uploaded this process, you can delete it with the following request :"
   ]
  },
  {
   "metadata": {
    "ExecuteTime": {
     "end_time": "2024-09-18T07:19:27.492749Z",
     "start_time": "2024-09-18T07:19:27.467166Z"
    }
   },
   "cell_type": "code",
   "source": [
    "URL = SERVER_IP + \"/examind/WS/openeo/process/WPS/process_graphs/evi-sentinel\"\n",
    "\n",
    "headers = {'Content-Type': 'application/json', 'Accept': '*/*'}\n",
    "\n",
    "r = requests.delete(url=URL, headers=headers)\n",
    "\n",
    "print(f\"Status {r.status_code}\")"
   ],
   "outputs": [
    {
     "name": "stdout",
     "output_type": "stream",
     "text": [
      "Status 200\n"
     ]
    }
   ],
   "execution_count": 64
  },
  {
   "metadata": {},
   "cell_type": "markdown",
   "source": [
    "### 3 - Execute your process (sync way)\n",
    "\n",
    "You can run an openEo process in two ways :\n",
    "- **synchronised** (the result arrives directly, you only have to make one request)\n",
    "- **asynchronous** (you launch the process, and you have to run another request to see the status and the result).\n",
    "\n",
    "Here, I will show you how to execute our *evi-sentinel* process with one request (sync).\n",
    "\n",
    "We will use the `/result` endpoint\n",
    "\n",
    "---\n",
    "\n",
    "**NOTE**\n",
    "\n",
    "In the case of synchronous execution, the user must create a process_graph passed in the request. A previously created process_graph cannot be queried directly. A workaround is to create a process_graph which takes only one process, the one created before (openeo-evi-sentinel).\n",
    "\n",
    "---\n",
    "\n",
    "**INFO**\n",
    "\n",
    "**1. How to import my data in Examind ?**\n",
    "\n",
    "I've written a short tutorial to import your data in Examind, using the sentinel-2 data example. Here is the link : [import_data.md](./import_data.md)\n",
    "\n",
    "**2. How do you retrieve the id of the data you want to use ?**\n",
    "\n",
    "I've written a short tutorial to find the data id, using the sentinel-2 data example. Here is the link : [retrieve_data_id.md](./retrieve_data_id.md)"
   ]
  },
  {
   "metadata": {
    "ExecuteTime": {
     "end_time": "2024-09-18T07:59:52.262350Z",
     "start_time": "2024-09-18T07:59:39.582213Z"
    }
   },
   "cell_type": "code",
   "source": [
    "URL = SERVER_IP + \"/examind/WS/openeo/process/WPS/result\"\n",
    "\n",
    "headers = {'Content-Type': 'application/json', 'Accept': '*/*'}\n",
    "\n",
    "exec_data = {\n",
    "    \"id\": \"evi-execution\",\n",
    "    \"summary\": \"Enhanced Vegetation Index\",\n",
    "    \"description\": \"Computes the Enhanced Vegetation Index (EVI). It is computed with the following formula: `2.5 * (NIR - RED) / (1 + NIR + 6*RED + -7.5*BLUE)`.\",\n",
    "    \"parameters\": [],\n",
    "    \"returns\": {\n",
    "        \"description\": \"Computed EVI.\",\n",
    "        \"schema\": {\n",
    "            \"type\": \"object\"\n",
    "        }\n",
    "    },\n",
    "    \"process_graph\": {\n",
    "        \"load\": {\n",
    "            \"process_id\": \"examind-dynamic.openeo-evi-sentinel\",\n",
    "            \"arguments\": {\n",
    "                \"dataId\": \"sentinel_b03_b04_b08:1\",\n",
    "                \"bbox\": {\n",
    "                    \"west\": 3.87,\n",
    "                    \"east\": 4.5,\n",
    "                    \"north\": 43.56,\n",
    "                    \"south\": 43.56\n",
    "                },\n",
    "                \"temporal\": [\"test\", \"test\"],\n",
    "                \"bands\": [\"Grayscale\"]\n",
    "            },\n",
    "            \"result\": \"true\"\n",
    "        }\n",
    "    }\n",
    "}\n",
    "\n",
    "r = requests.post(url=URL, data=json.dumps(data), headers=headers)\n",
    "\n",
    "print(f\"Status {r.status_code}\")\n",
    "if r.text and r.text is not None:\n",
    "    print(r.text)"
   ],
   "outputs": [
    {
     "name": "stdout",
     "output_type": "stream",
     "text": [
      "Status 404\n",
      "Service ID : WPSnot found\n"
     ]
    }
   ],
   "execution_count": 74
  },
  {
   "metadata": {},
   "cell_type": "markdown",
   "source": ""
  }
 ],
 "metadata": {
  "language_info": {
   "name": "python"
  },
  "kernelspec": {
   "name": "python3",
   "language": "python",
   "display_name": "Python 3 (ipykernel)"
  }
 },
 "nbformat": 4,
 "nbformat_minor": 2
}
