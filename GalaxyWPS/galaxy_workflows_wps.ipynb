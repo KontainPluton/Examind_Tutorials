{
 "cells": [
  {
   "cell_type": "markdown",
   "id": "83d9e9d9075724fa",
   "metadata": {},
   "source": [
    "# Galaxy Workflows through Examind WPS - Example\n",
    "\n",
    "By Quentin BIALOTA (Geomatys)\n",
    "\n",
    "Contact : quentin.bialota@geomatys.com"
   ]
  },
  {
   "cell_type": "markdown",
   "id": "e0bfff08120a4f2c",
   "metadata": {},
   "source": [
    "**Prerequisites :**\n",
    "- Have an examind (via docker) running on your machine\n",
    "- Have imported the Marine Omics Visualisation Workflow in Galaxy and in Examind (through the web ui http://localhost/8080/examind [login: admin / password: admin])\n",
    "    - You have to import [Marine Omics Visualisation](./galaxy_workflows_ga/Galaxy-Workflow-Marine_Omics_visualisation.ga) workflow into Galaxy (https://earth-system.usegalaxy.eu/)\n",
    "    - You have to import [Process Marine Omics Visualisation](./process_xml/processGalaxy_marineOmicsVisualisation.xml) process description into Examind (you can follow the [pdf tutorial](./Deploy%20and%20Use%20Galaxy%20Workflow%20With%20Exa%20WPS.pdf))\n",
    "- In examind, have created a WPS (in Web Services page) named `WPSTest` (you need to enable Versions `1.0.0` **AND** `2.0.0`)"
   ]
  },
  {
   "cell_type": "code",
   "id": "28f0b1b940a7d144",
   "metadata": {
    "ExecuteTime": {
     "end_time": "2024-09-23T14:56:32.290122Z",
     "start_time": "2024-09-23T14:56:31.733409Z"
    }
   },
   "source": [
    "# Imports (Execute this cell once)\n",
    "import requests\n",
    "import xml.etree.ElementTree as ET\n",
    "import matplotlib.pyplot as plt\n",
    "from io import BytesIO\n",
    "import os\n",
    "\n",
    "# Set the server ip here (before the /examind), by default: localhost:8080\n",
    "SERVER_IP = \"http://localhost:8080\""
   ],
   "outputs": [],
   "execution_count": 1
  },
  {
   "cell_type": "markdown",
   "id": "24bf93feb41edadd",
   "metadata": {},
   "source": [
    "### WPS - DescribeProcess request"
   ]
  },
  {
   "cell_type": "code",
   "execution_count": 11,
   "id": "e0d40e5c868c1347",
   "metadata": {
    "ExecuteTime": {
     "end_time": "2024-09-23T14:44:07.350130Z",
     "start_time": "2024-09-23T14:44:07.297283Z"
    }
   },
   "outputs": [
    {
     "name": "stdout",
     "output_type": "stream",
     "text": [
      "{http://www.opengis.net/wps/2.0}ProcessOfferings {}\n",
      "  {http://www.opengis.net/wps/2.0}ProcessOffering {'jobControlOptions': 'sync-execute async-execute dismiss', 'outputTransmission': 'reference value', 'processModel': 'native', 'processVersion': '1.0.0'}\n",
      "    {http://www.opengis.net/wps/2.0}Process {}\n",
      "      {http://www.opengis.net/ows/2.0}Title {'{http://www.w3.org/XML/1998/namespace}lang': 'en-EN'}\n",
      "      {http://www.opengis.net/ows/2.0}Abstract {'{http://www.w3.org/XML/1998/namespace}lang': 'en-EN'}\n",
      "      {http://www.opengis.net/ows/2.0}Identifier {}\n",
      "      {http://www.opengis.net/wps/2.0}Input {'minOccurs': '1', 'maxOccurs': '1'}\n",
      "        {http://www.opengis.net/ows/2.0}Title {'{http://www.w3.org/XML/1998/namespace}lang': 'en-EN'}\n",
      "        {http://www.opengis.net/ows/2.0}Abstract {'{http://www.w3.org/XML/1998/namespace}lang': 'en-EN'}\n",
      "        {http://www.opengis.net/ows/2.0}Identifier {}\n",
      "        {http://www.opengis.net/wps/2.0}LiteralData {}\n",
      "          {http://www.opengis.net/wps/2.0}Format {'mimeType': 'text/plain', 'default': 'true'}\n",
      "          LiteralDataDomain {}\n",
      "            {http://www.opengis.net/ows/2.0}AnyValue {}\n",
      "            {http://www.opengis.net/ows/2.0}DataType {'{http://www.opengis.net/ows/2.0}reference': 'http://www.w3.org/TR/xmlschema-2/#string'}\n",
      "      {http://www.opengis.net/wps/2.0}Input {'minOccurs': '1', 'maxOccurs': '1'}\n",
      "        {http://www.opengis.net/ows/2.0}Title {'{http://www.w3.org/XML/1998/namespace}lang': 'en-EN'}\n",
      "        {http://www.opengis.net/ows/2.0}Abstract {'{http://www.w3.org/XML/1998/namespace}lang': 'en-EN'}\n",
      "        {http://www.opengis.net/ows/2.0}Identifier {}\n",
      "        {http://www.opengis.net/wps/2.0}LiteralData {}\n",
      "          {http://www.opengis.net/wps/2.0}Format {'mimeType': 'text/plain', 'default': 'true'}\n",
      "          LiteralDataDomain {}\n",
      "            {http://www.opengis.net/ows/2.0}AnyValue {}\n",
      "            {http://www.opengis.net/ows/2.0}DataType {'{http://www.opengis.net/ows/2.0}reference': 'http://www.w3.org/TR/xmlschema-2/#string'}\n",
      "      {http://www.opengis.net/wps/2.0}Input {'minOccurs': '1', 'maxOccurs': '1'}\n",
      "        {http://www.opengis.net/ows/2.0}Title {'{http://www.w3.org/XML/1998/namespace}lang': 'en-EN'}\n",
      "        {http://www.opengis.net/ows/2.0}Abstract {'{http://www.w3.org/XML/1998/namespace}lang': 'en-EN'}\n",
      "        {http://www.opengis.net/ows/2.0}Identifier {}\n",
      "        {http://www.opengis.net/wps/2.0}LiteralData {}\n",
      "          {http://www.opengis.net/wps/2.0}Format {'mimeType': 'text/plain', 'default': 'true'}\n",
      "          LiteralDataDomain {}\n",
      "            {http://www.opengis.net/ows/2.0}AnyValue {}\n",
      "            {http://www.opengis.net/ows/2.0}DataType {'{http://www.opengis.net/ows/2.0}reference': 'http://www.w3.org/TR/xmlschema-2/#string'}\n",
      "      {http://www.opengis.net/wps/2.0}Input {'minOccurs': '1', 'maxOccurs': '1'}\n",
      "        {http://www.opengis.net/ows/2.0}Title {'{http://www.w3.org/XML/1998/namespace}lang': 'en-EN'}\n",
      "        {http://www.opengis.net/ows/2.0}Abstract {'{http://www.w3.org/XML/1998/namespace}lang': 'en-EN'}\n",
      "        {http://www.opengis.net/ows/2.0}Identifier {}\n",
      "        {http://www.opengis.net/wps/2.0}LiteralData {}\n",
      "          {http://www.opengis.net/wps/2.0}Format {'mimeType': 'text/plain', 'default': 'true'}\n",
      "          LiteralDataDomain {}\n",
      "            {http://www.opengis.net/ows/2.0}AnyValue {}\n",
      "            {http://www.opengis.net/ows/2.0}DataType {'{http://www.opengis.net/ows/2.0}reference': 'http://www.w3.org/TR/xmlschema-2/#string'}\n",
      "      {http://www.opengis.net/wps/2.0}Input {'minOccurs': '1', 'maxOccurs': '1'}\n",
      "        {http://www.opengis.net/ows/2.0}Title {'{http://www.w3.org/XML/1998/namespace}lang': 'en-EN'}\n",
      "        {http://www.opengis.net/ows/2.0}Abstract {'{http://www.w3.org/XML/1998/namespace}lang': 'en-EN'}\n",
      "        {http://www.opengis.net/ows/2.0}Identifier {}\n",
      "        {http://www.opengis.net/wps/2.0}LiteralData {}\n",
      "          {http://www.opengis.net/wps/2.0}Format {'mimeType': 'text/plain', 'default': 'true'}\n",
      "          LiteralDataDomain {}\n",
      "            {http://www.opengis.net/ows/2.0}AnyValue {}\n",
      "            {http://www.opengis.net/ows/2.0}DataType {'{http://www.opengis.net/ows/2.0}reference': 'http://www.w3.org/TR/xmlschema-2/#string'}\n",
      "      {http://www.opengis.net/wps/2.0}Input {'minOccurs': '1', 'maxOccurs': '1'}\n",
      "        {http://www.opengis.net/ows/2.0}Title {'{http://www.w3.org/XML/1998/namespace}lang': 'en-EN'}\n",
      "        {http://www.opengis.net/ows/2.0}Abstract {'{http://www.w3.org/XML/1998/namespace}lang': 'en-EN'}\n",
      "        {http://www.opengis.net/ows/2.0}Identifier {}\n",
      "        {http://www.opengis.net/wps/2.0}LiteralData {}\n",
      "          {http://www.opengis.net/wps/2.0}Format {'mimeType': 'text/plain', 'default': 'true'}\n",
      "          LiteralDataDomain {}\n",
      "            {http://www.opengis.net/ows/2.0}AnyValue {}\n",
      "            {http://www.opengis.net/ows/2.0}DataType {'{http://www.opengis.net/ows/2.0}reference': 'http://www.w3.org/TR/xmlschema-2/#string'}\n",
      "      {http://www.opengis.net/wps/2.0}Output {}\n",
      "        {http://www.opengis.net/ows/2.0}Title {'{http://www.w3.org/XML/1998/namespace}lang': 'en-EN'}\n",
      "        {http://www.opengis.net/ows/2.0}Abstract {'{http://www.w3.org/XML/1998/namespace}lang': 'en-EN'}\n",
      "        {http://www.opengis.net/ows/2.0}Identifier {}\n",
      "        {http://www.opengis.net/wps/2.0}LiteralData {}\n",
      "          {http://www.opengis.net/wps/2.0}Format {'mimeType': 'text/plain', 'default': 'true'}\n",
      "          LiteralDataDomain {}\n",
      "            {http://www.opengis.net/ows/2.0}AnyValue {}\n",
      "            {http://www.opengis.net/ows/2.0}DataType {'{http://www.opengis.net/ows/2.0}reference': 'http://www.w3.org/TR/xmlschema-2/#string'}\n",
      "      {http://www.opengis.net/wps/2.0}Output {}\n",
      "        {http://www.opengis.net/ows/2.0}Title {'{http://www.w3.org/XML/1998/namespace}lang': 'en-EN'}\n",
      "        {http://www.opengis.net/ows/2.0}Abstract {'{http://www.w3.org/XML/1998/namespace}lang': 'en-EN'}\n",
      "        {http://www.opengis.net/ows/2.0}Identifier {}\n",
      "        {http://www.opengis.net/wps/2.0}LiteralData {}\n",
      "          {http://www.opengis.net/wps/2.0}Format {'mimeType': 'text/plain', 'default': 'true'}\n",
      "          LiteralDataDomain {}\n",
      "            {http://www.opengis.net/ows/2.0}AnyValue {}\n",
      "            {http://www.opengis.net/ows/2.0}DataType {'{http://www.opengis.net/ows/2.0}reference': 'http://www.w3.org/TR/xmlschema-2/#string'}\n"
     ]
    }
   ],
   "source": [
    "URL = SERVER_IP + \"/examind/WS/wps/WPSTest?service=WPS&version=2.0.0&request=DescribeProcess&Identifier=urn:exa:wps:examind::marine:omics:visusalisation\"\n",
    "\n",
    "r = requests.get(url = URL)\n",
    "\n",
    "root = ET.fromstring(r.content)\n",
    "\n",
    "def print_xml(element, indent=0):\n",
    "    # Print the element tag and attributes\n",
    "    print(\" \" * indent + element.tag, element.attrib)\n",
    "\n",
    "    # Iterate over the child elements\n",
    "    for child in element:\n",
    "        # Print the child element recursively\n",
    "        print_xml(child, indent + 2)\n",
    "\n",
    "# Print the XML data\n",
    "print_xml(root)"
   ]
  },
  {
   "cell_type": "markdown",
   "id": "5bd405a5",
   "metadata": {},
   "source": [
    "### WPS - Execute request\n",
    "You have the full xml of the execute request [here](./execute_request_xml/ExecuteRequest_marineOmicsVisualisation.xml)"
   ]
  },
  {
   "cell_type": "code",
   "id": "7ff94f46",
   "metadata": {},
   "source": [
    "URL = SERVER_IP + \"/examind/WS/wps/WPSTest?service=WPS&version=2.0.0&request=Execute&Identifier=urn:exa:wps:examind::marine:omics:visusalisation\"\n",
    "\n",
    "with open('./execute_request_xml/ExecuteRequest_marineOmicsVisualisation.xml', 'r') as f:\n",
    "    xml_data = f.read()\n",
    "\n",
    "r = requests.post(URL, data=xml_data, headers={'Content-Type': 'application/xml'})\n",
    "\n",
    "# Print the response\n",
    "print(r.status_code)\n",
    "print(r.text)"
   ],
   "outputs": [],
   "execution_count": null
  },
  {
   "metadata": {},
   "cell_type": "markdown",
   "source": [
    "### WPS - GetStatus request\n",
    "**/!\\ Change JobID in xml_data with jobId provided by the previous request (execute)**"
   ],
   "id": "59163e6c26b35e8f"
  },
  {
   "metadata": {},
   "cell_type": "code",
   "outputs": [],
   "execution_count": null,
   "source": [
    "URL = SERVER_IP + \"/examind/WS/wps/WPSTest?service=WPS&version=2.0.0&request=GetStatus&Identifier=urn:exa:wps:examind::marine:omics:visusalisation\"\n",
    "\n",
    "# /!\\ you need to change JobID here\n",
    "xml_data = '''\n",
    "<wps:GetStatus xmlns:wps=\"http://www.opengis.net/wps/2.0\" xmlns:ows=\"http://www.opengis.net/ows/2.0\" xmlns:xlink=\"http://www.w3.org/1999/xlink\" xmlns:xsi=\"http://www.w3.org/2001/XMLSchema-instance\" service=\"WPS\" version=\"2.0.0\" xsi:schemaLocation=\"http://www.opengis.net/wps/2.0 http://schemas.opengis.net/wps/2.0/wps.xsd\">\n",
    "<ows:Identifier>urn:exa:wps:examind::marine:omics:visusalisation</ows:Identifier>\n",
    "<wps:JobID>55820adb-8f96-4980-ab61-252c8c2a2833</wps:JobID>\n",
    "</wps:GetStatus>\n",
    "'''\n",
    "\n",
    "r = requests.post(URL, data=xml_data, headers={'Content-Type': 'application/xml'})\n",
    "\n",
    "# Print the response\n",
    "print(r.status_code)\n",
    "print(r.text)"
   ],
   "id": "99fb58c8a016bcb"
  },
  {
   "metadata": {},
   "cell_type": "markdown",
   "source": [
    "### WPS - GetResult request\n",
    "**/!\\ Change JobID in xml_data with jobId provided by the execute request**\n",
    "\n",
    "---\n",
    "**Note**\n",
    "\n",
    "The result is given via 2 download links with the results hosted on Galaxy (a csv and a zip with images in our case)."
   ],
   "id": "98d8e2452ba3ed14"
  },
  {
   "metadata": {},
   "cell_type": "code",
   "outputs": [],
   "execution_count": null,
   "source": [
    "URL = SERVER_IP + \"/examind/WS/wps/WPSTest?service=WPS&version=2.0.0&request=GetResult&Identifier=urn:exa:wps:examind::marine:omics:visusalisation\"\n",
    "\n",
    "# /!\\ you need to change JobID here\n",
    "xml_data = '''\n",
    "<wps:GetResult xmlns:wps=\"http://www.opengis.net/wps/2.0\" xmlns:ows=\"http://www.opengis.net/ows/2.0\" xmlns:xlink=\"http://www.w3.org/1999/xlink\" xmlns:xsi=\"http://www.w3.org/2001/XMLSchema-instance\" service=\"WPS\" version=\"2.0.0\" xsi:schemaLocation=\"http://www.opengis.net/wps/2.0 http://schemas.opengis.net/wps/2.0/wps.xsd\">\n",
    "<ows:Identifier>urn:exa:wps:examind::marine:omics:visusalisation</ows:Identifier>\n",
    "<wps:JobID>55820adb-8f96-4980-ab61-252c8c2a2833</wps:JobID>\n",
    "</wps:GetResult>\n",
    "'''\n",
    "\n",
    "r = requests.post(URL, data=xml_data, headers={'Content-Type': 'application/xml'})\n",
    "\n",
    "# Print the response\n",
    "print(r.status_code)\n",
    "print(r.text)"
   ],
   "id": "9ebc02b553bc2166"
  }
 ],
 "metadata": {
  "kernelspec": {
   "display_name": "Python 3",
   "language": "python",
   "name": "python3"
  },
  "language_info": {
   "codemirror_mode": {
    "name": "ipython",
    "version": 2
   },
   "file_extension": ".py",
   "mimetype": "text/x-python",
   "name": "python",
   "nbconvert_exporter": "python",
   "pygments_lexer": "ipython2",
   "version": "2.7.6"
  }
 },
 "nbformat": 4,
 "nbformat_minor": 5
}
